{
 "cells": [
  {
   "cell_type": "code",
   "execution_count": 2,
   "source": [
    "### L4 Roots of eqns\n",
    "'''\n",
    "- Identify nonlinear eqns\n",
    "- Solve these eqns using the scipy.optimize functions bisect and newton\n",
    "- Explain the algorithms that underlie the Bisection, Newton and Secant method\n",
    "- Explain why these methods are considered iterative and approximative and how this relates to tolerances\n",
    "- Demonstrate several types of convergence errors\n",
    "'''\n",
    "\n",
    "import numpy as np\n",
    "import matplotlib.pyplot as plt\n",
    "\n",
    "# scipy's optimization\n",
    "import scipy as sci"
   ],
   "outputs": [],
   "metadata": {}
  },
  {
   "cell_type": "code",
   "execution_count": 3,
   "source": [
    "### Nonlinear equations\n",
    "# linear eqn eg. f(x) = 0  where f(x):= a + kx\n",
    "# analytical --> can write down solution as something we can readily evaluate (eg MM4 PDEs)\n",
    "\n",
    "# Nonlinear problem without trivial soln: x = tan(x)\n",
    "# f(x) approx= 0 where f(x):= x - tan(x) (= tan(x) - x)\n",
    "# soln to f(x) = 0 is called a root"
   ],
   "outputs": [],
   "metadata": {}
  },
  {
   "cell_type": "code",
   "execution_count": 4,
   "source": [
    "### Picard's method of successive approximations (or fixed point iteration)\n",
    "# form of x = g(x)\n",
    "# x that satisfies --> fixed point of function g [x = g(x) = g(g(x) = g(g(g(x)))]\n",
    "# also a root (satisfies 0 = f(x) := x - g(x)) but not all roots are fixed points\n",
    "\n",
    "# eg g(x) := x^2 - 3x + 4 --> fixed point 2 (g(2) = 2)\n",
    "# eg g(x) = x + 1 has no fixed points\n",
    "\n",
    "### Visual inspection\n",
    "\" plot y = g(x) --> fixed points are where curve intersects with the line y=x \""
   ],
   "outputs": [
    {
     "output_type": "execute_result",
     "data": {
      "text/plain": [
       "' plot y = g(x) --> fixed points are where curve intersects with the line y=x '"
      ]
     },
     "metadata": {},
     "execution_count": 4
    }
   ],
   "metadata": {}
  },
  {
   "cell_type": "code",
   "execution_count": 5,
   "source": [
    "### Method of successive approximations (Picard iteration)\n",
    "# guess x --> plug in RHS g(.) --> new x used for updated guess\n",
    "# x^(k+1) = g (x ^ k ), start from x^ (0)\n",
    "# x ^ (k+1) - x^k = g (x^k) - x^k so dx below tolerance --> x=g(x) for same tolerance\n",
    "# converges to x = g(x) \n",
    "\n",
    "# cobweb plot --> sets x value into 'y' value (g(x)) for consecutive iterations\n",
    "\n",
    "\n",
    "## Ex 4.1 Implementing successive approximation for x = e ^ (-x)\n",
    "def picard(f, x, atol=1.0e-6):\n",
    "    \"\"\" Function implementing Picard's method\n",
    "    f here is the function g(.) described in the lecture and we are solving x = g(x)\n",
    "    x is an initial guess\n",
    "    atol is a user-defined (absolute) error tolerance\n",
    "    \"\"\"\n",
    "    # record number of function evaluations so we can later compare methods\n",
    "    fevals = 0\n",
    "    # initialise the previous x simply so that while loop argument is initially true\n",
    "    x_prev = x + 2*atol\n",
    "    while abs(x - x_prev) > atol:\n",
    "        x_prev = x\n",
    "        x = f(x_prev) # one function evaluation\n",
    "        fevals += 1\n",
    "\n",
    "        print('Current iteration solution: ',x, x_prev)\n",
    "    print('\\nPicard used', fevals, 'function evaluations')\n",
    "    return x\n",
    "\n",
    "\n",
    "\n",
    "def g(x):\n",
    "    return np.exp(-x)\n",
    "\n",
    "\n",
    "print('\\nSolution from Picard: ', picard(g, 0.9, atol=1.0e-7))  # 0.9 is our initial guess\n",
    "\n",
    "\n",
    "# let's check our answer against a SciPy function: sop.newton.\n",
    "def f(x):\n",
    "    return x - np.exp(-x)\n",
    "\n",
    "print('\\nCheck this against the solution from SciPy: sop.newton(f, 0.9)=', sci.optimize.newton(f, 0.9))\n",
    "\n",
    "# NB. if we tighten up the atol toelrance in our call to picard the answer gets closer to SciPy \n",
    "# but of course takes more iterations."
   ],
   "outputs": [
    {
     "output_type": "stream",
     "name": "stdout",
     "text": [
      "Current iteration solution:  0.4065696597405991 0.9\n",
      "Current iteration solution:  0.6659307054401221 0.4065696597405991\n",
      "Current iteration solution:  0.5137951132027094 0.6659307054401221\n",
      "Current iteration solution:  0.5982209490817094 0.5137951132027094\n",
      "Current iteration solution:  0.5497888689549504 0.5982209490817094\n",
      "Current iteration solution:  0.5770716352569477 0.5497888689549504\n",
      "Current iteration solution:  0.5615403562006408 0.5770716352569477\n",
      "Current iteration solution:  0.570329875730725 0.5615403562006408\n",
      "Current iteration solution:  0.5653389163484923 0.570329875730725\n",
      "Current iteration solution:  0.5681675528504282 0.5653389163484923\n",
      "Current iteration solution:  0.566562684236262 0.5681675528504282\n",
      "Current iteration solution:  0.5674726729169729 0.566562684236262\n",
      "Current iteration solution:  0.5669565140929677 0.5674726729169729\n",
      "Current iteration solution:  0.5672492292377977 0.5669565140929677\n",
      "Current iteration solution:  0.5670832110967041 0.5672492292377977\n",
      "Current iteration solution:  0.5671773650126686 0.5670832110967041\n",
      "Current iteration solution:  0.5671239655566297 0.5671773650126686\n",
      "Current iteration solution:  0.5671542504764889 0.5671239655566297\n",
      "Current iteration solution:  0.5671370745155531 0.5671542504764889\n",
      "Current iteration solution:  0.5671468157234473 0.5671370745155531\n",
      "Current iteration solution:  0.5671412910553173 0.5671468157234473\n",
      "Current iteration solution:  0.5671444243313883 0.5671412910553173\n",
      "Current iteration solution:  0.5671426473141187 0.5671444243313883\n",
      "Current iteration solution:  0.5671436551372928 0.5671426473141187\n",
      "Current iteration solution:  0.5671430835570621 0.5671436551372928\n",
      "Current iteration solution:  0.5671434077249292 0.5671430835570621\n",
      "Current iteration solution:  0.5671432238752903 0.5671434077249292\n",
      "Current iteration solution:  0.5671433281443767 0.5671432238752903\n",
      "Current iteration solution:  0.5671432690088631 0.5671433281443767\n",
      "\n",
      "Picard used 29 function evaluations\n",
      "\n",
      "Solution from Picard:  0.5671432690088631\n",
      "\n",
      "Check this against the solution from SciPy: sop.newton(f, 0.9)= 0.5671432904097843\n"
     ]
    }
   ],
   "metadata": {}
  },
  {
   "cell_type": "code",
   "execution_count": 6,
   "source": [
    "## Ex 4.2 Visual inspection for initial guess 2x + xsin(x - 3) = 5 for - 10 < x < 10\n",
    "\n",
    "# for this problem we can define f as 5 - (2*x + x*np.sin(x-3)), or (2*x + x*np.sin(x-3)) - 5.\n",
    "# it makes no difference to the root-finding, just the plots\n",
    "\" plot g(x) = 0 as we are finding ROOT\"\n",
    "def f(x):\n",
    "    return (2*x + x*np.sin(x-3)) - 5\n",
    "\n",
    "# plot the function over the whole interval being considered\n",
    "x = np.linspace(-10,10,100)\n",
    "\n",
    "fig, (ax1, ax2) = plt.subplots(1, 2, figsize=(12, 6))\n",
    "fig.tight_layout(w_pad=4, h_pad=4)\n",
    "\n",
    "ax1.plot(x, f(x), 'b', label='$y(x) = g(x) = (2*x + x*np.sin(x-3)) - 5')\n",
    "xlim = ax1.get_xlim()\n",
    "ax1.plot([xlim[0], xlim[1]], [0., 0.], 'k--', label='$y(x)=0$')\n",
    "\n",
    "ax1.legend(loc='best', fontsize=14)\n",
    "ax1.set_xlabel('$x$', fontsize=16)\n",
    "ax1.set_ylabel('$g(x)$', fontsize=16)\n",
    "\n",
    "# now plot the function over a smaller interval\n",
    "x = np.linspace(0, 5, 100)\n",
    "\n",
    "ax2.plot(x, f(x), 'b', label='$y(x) = g(x) = (2*x + x*np.sin(x-3)) - 5')\n",
    "xlim = ax2.get_xlim()\n",
    "ax2.plot([xlim[0], xlim[1]], [0., 0.], 'k--', label='$y(x)=0$')\n",
    "\n",
    "ax2.legend(loc='best', fontsize=14)\n",
    "ax2.set_xlabel('$x$', fontsize=16)\n",
    "ax2.set_ylabel('$g(x)$', fontsize=16)\n",
    "ax2.legend(loc='best', fontsize=14)"
   ],
   "outputs": [
    {
     "output_type": "execute_result",
     "data": {
      "text/plain": [
       "<matplotlib.legend.Legend at 0x7fe1b09d37f0>"
      ]
     },
     "metadata": {},
     "execution_count": 6
    },
    {
     "output_type": "display_data",
     "data": {
      "image/png": "[encoded data removed]",
      "text/plain": [
       "<Figure size 1200x600 with 2 Axes>"
      ]
     },
     "metadata": {}
    }
   ],
   "metadata": {}
  },
  {
   "cell_type": "code",
   "execution_count": 7,
   "source": [
    "### Root bracketing algorithm (incremental search)\n",
    "# Visual inspectio to identify root and narrow down where root can be found\n",
    "# identifies smaller bracket around root by deteching a change in sign of function g(x)\n",
    "\n",
    "## Ex 4.3 using subinterval from Ex 4.2 to construct root bracketing algorithm\n",
    "def f(x):\n",
    "    return 2*x + x*np.sin(x-3) - 5\n",
    "\n",
    "\n",
    "def root_bracketing(f, a, b, dx):\n",
    "    \"\"\" Function to perform root bracketing on the function f(.)\n",
    "    between a and b, with fixed interval size dx.\n",
    "    Returns the bracket of size dx that contains the root.\n",
    "    \"\"\" \n",
    "    # The sign function returns:  -1 if x < 0;  0 if x==0;  1 if x > 0.\n",
    "    sign = np.sign(f(a))\n",
    "    while sign == np.sign(f(a)):\n",
    "        a += dx\n",
    "        if a >= b:\n",
    "            raise RuntimeError('no root within [a,b]')\n",
    "    return (a-dx, a)\n",
    "\n",
    "\n",
    "a = 0.\n",
    "b = 5.\n",
    "dx = 0.1\n",
    "# print out the output from our root_bracketing function\n",
    "print('Bracket = ', root_bracketing(f, a, b, dx))\n"
   ],
   "outputs": [
    {
     "output_type": "stream",
     "name": "stdout",
     "text": [
      "Bracket =  (2.700000000000001, 2.800000000000001)\n"
     ]
    }
   ],
   "metadata": {}
  },
  {
   "cell_type": "code",
   "execution_count": 8,
   "source": [
    "### Bisection Method\n",
    "# further close in--> gradually desc dx by 1/2 AND change direction depending on sign of f(x1)f(x2)\n",
    "\n",
    "# if root in interval --> f(x1)f(x2) < 0\n",
    "# compute midpoint and calculate f(x2)f(x3)\n",
    "# if f(x2) f(x3) < 0 --> root in [x2, x3] hence replace x1 with x3\n",
    "# if f(x2) f(x3) > 0 --> root in [x1, x3] hence replace x2 with x3\n",
    "# new interval is 1/2 size of original interval --> repeat till convergence tolerance"
   ],
   "outputs": [],
   "metadata": {}
  },
  {
   "cell_type": "code",
   "execution_count": 9,
   "source": [
    "## Ex 4.4 implementing bisection algorithm for Ex 4.3\n",
    "def bisection(func, a, b, atol=1.0E-6, nmax=100):\n",
    "    n = 0\n",
    "    x1 = a\n",
    "    x2 = b\n",
    "    while n <= nmax:\n",
    "\n",
    "        while abs(a-b) > atol:\n",
    "            x3 = (x1 + x2) / 2\n",
    "            f1 = func(x1)\n",
    "            f2 = func(x2)\n",
    "            f3 = func(x3)\n",
    "\n",
    "            \"very important to return x3 here\"\n",
    "            if (x2 - x1) / 2 < atol:\n",
    "                return x3\n",
    "\n",
    "            if f2*f3 < 0.0:\n",
    "                x1 = x3\n",
    "                f1 = f3\n",
    "            else:\n",
    "                x2 = x3\n",
    "                f2 = f3\n",
    "\n",
    "            n += 1\n",
    "        \n",
    "    raise RuntimeError('no root found within [a,b]')\n",
    "\n",
    "def f(x):\n",
    "    return 2*x + x*np.sin(x-3) - 5\n",
    "\n",
    "a = 2.7\n",
    "b = 2.8\n",
    "\n",
    "print(bisection(f, a, b))\n",
    "print(sci.optimize.bisect(f, a, b))"
   ],
   "outputs": [
    {
     "output_type": "stream",
     "name": "stdout",
     "text": [
      "2.79035415649414\n",
      "2.7903546180677945\n"
     ]
    }
   ],
   "metadata": {}
  },
  {
   "cell_type": "code",
   "execution_count": 10,
   "source": [
    "## Newton Method\n",
    "# uses f'(x) to find intersection of tangent at x with zero\n",
    "# assumes f'(x) is available --> Quasi-Newton uses first principles approximation\n",
    "    # convergence isnt as good but closer to quadratic than linear\n",
    "# Taylor series --> set f(x(i + 1)) = 0 and assume x(i + 1) is close to xi\n",
    "# Error --> quadratic convergence\n",
    "\n",
    "def f(x):\n",
    "    return x - np.exp(-x)\n",
    "\n",
    "def dfdx(x):\n",
    "    return 1 + np.exp(-x)\n",
    "\n",
    "x0 = -1. # initial guess\n",
    "print(sci.optimize.newton(f, x0, dfdx))"
   ],
   "outputs": [
    {
     "output_type": "stream",
     "name": "stdout",
     "text": [
      "0.567143290409784\n"
     ]
    }
   ],
   "metadata": {}
  },
  {
   "cell_type": "code",
   "execution_count": 11,
   "source": [
    "## Ex 4.5 use Ex 4.2 sub interval as initital guess xo and implement Newton Method\n",
    "\n",
    "def newton(f, x0, dfdx, atol=1.0e-6, maxiter=100):\n",
    "    \"\"\" Function to implement the Newton-Raphson method\n",
    "    f is the function we are trying to find a root of\n",
    "    and dfdx is another function which return the derivative of f\n",
    "    \"\"\"\n",
    "    x_n = [x0]\n",
    "    fevals = 0\n",
    "    while True:\n",
    "        \" x[-1] works because list\"\n",
    "        \" REMEMBER to input x[-1] in f and dfdx\"\n",
    "        x = x_n[-1] - f(x_n[-1])/ dfdx(x_n[-1])\n",
    "        x_n.append(x)\n",
    "        fevals += 1\n",
    "        if abs(x_n[-1] - x_n[-2]) < atol:\n",
    "            print('Newton (analytical derivative) used', fevals, 'function evaluations')\n",
    "            return x_n[-1]\n",
    "        if fevals >= maxiter:\n",
    "            break\n",
    "\n",
    "\n",
    "def f(x):\n",
    "    return (2*x + x*np.sin(x-3)) - 5\n",
    "\n",
    "def dfdx(x):\n",
    "    \"manually compute and input\"\n",
    "    return 2 - np.sin(3-x) + x*np.cos(3-x)\n",
    "\n",
    "x0 = 0. # initial guess somwhere in interval\n",
    "print(newton(f, x0, dfdx))\n",
    "print(sci.optimize.newton(f, x0, dfdx))"
   ],
   "outputs": [
    {
     "output_type": "stream",
     "name": "stdout",
     "text": [
      "Newton (analytical derivative) used 5 function evaluations\n",
      "2.7903546180673837\n",
      "2.7903546180673837\n"
     ]
    }
   ],
   "metadata": {}
  },
  {
   "cell_type": "code",
   "execution_count": 12,
   "source": [
    "## Ex 4.6 extend Ex 4.5 to compute f'(x) using finite difference approx\n",
    "\n",
    "def quasi_newton(f, x0, dx=1.0E-7, atol=1.0E-6, maxiter=100):\n",
    "    \"\"\" Function to implement quasi-newton\n",
    "    f is the function we are trying to find a root of\n",
    "    \"\"\"\n",
    "    x_n = [x0]\n",
    "    fevals = 0\n",
    "\n",
    "    dfdx_n = []\n",
    "    while True:\n",
    "        dfdx = (f(x_n[-1] + dx) - f(x_n[-1])) / dx\n",
    "        x = x_n[-1] - f(x_n[-1])/ dfdx\n",
    "        x_n.append(x)\n",
    "        fevals += 1\n",
    "\n",
    "        if abs(x_n[-1] - x_n[-2]) < atol:\n",
    "            print('Newton (analytical derivative) used', fevals, 'function evaluations')\n",
    "            return x_n[-1]\n",
    "        if fevals >= maxiter:\n",
    "            break\n",
    "\n",
    "    \n",
    "def f(x):\n",
    "    return (2*x + x*np.sin(x-3)) - 5\n",
    "\n",
    "x0 = 0.\n",
    "print(quasi_newton(f, x0))\n",
    "print(sci.optimize.newton(f, x0))\n"
   ],
   "outputs": [
    {
     "output_type": "stream",
     "name": "stdout",
     "text": [
      "Newton (analytical derivative) used 5 function evaluations\n",
      "2.7903546180673837\n",
      "2.7903546180673837\n"
     ]
    }
   ],
   "metadata": {}
  },
  {
   "cell_type": "code",
   "execution_count": 15,
   "source": [
    "## Secant Method\n",
    "# replaces local derivitive in newton by difference approximation based on two consecutive xn\n",
    "# f'(x) approx= (f(xn)-f(xn-1)) / (xn - xn-1) --> doesnt require derivative + only takes 2 points\n",
    "\n",
    "## Ex 4.7 use Ex 4.2 subinterval to find x0 = a and x1 = a + 0.1 \n",
    "def secant(f, x0, x1, atol=1.0E-6):\n",
    "    \"\"\" Function to implement the secant method\n",
    "    x0 and x1 are the two required guesses\n",
    "    f is the function we are trying to find a root of\n",
    "    \"\"\"\n",
    "    x_n = [x0, x1]\n",
    "    while True:\n",
    "        x = x_n[-1] - f(x_n[-1])*((x_n[-1]-x_n[-2])/(f(x_n[-1])-f(x_n[-2])))\n",
    "        x_n.append(x)\n",
    "        if abs(x_n[-1] - x_n[-2]) < atol:\n",
    "            return x_n[-1]\n",
    "\n",
    "def f(x):\n",
    "    return 2*x + x*np.sin(x-3) - 5\n",
    "\n",
    "x0 = 0.\n",
    "x1 = x0 + 0.1\n",
    "print(secant(f, x0, x1))\n",
    "print(sci.optimize.newton(f, x0))"
   ],
   "outputs": [
    {
     "output_type": "stream",
     "name": "stdout",
     "text": [
      "2.7903546180673446\n",
      "2.7903546180673837\n"
     ]
    }
   ],
   "metadata": {}
  },
  {
   "cell_type": "code",
   "execution_count": null,
   "source": [
    "### Potential convergence issues\n",
    "# depends on starting guess\n",
    "    # multiple roots in vicinity --> converges to one but this \"one\" could \n",
    "        #change with sligth changes to intital guess\n",
    "    # nearly singular/ numerical overflow --> local gradient guess at x^k is near zero\n",
    "        # gradient approx is beyond representable range --> jumps to distance away and converges to wrong root\n",
    "    # Oscillagtions --> algorithm bounces back and forth"
   ],
   "outputs": [],
   "metadata": {}
  }
 ],
 "metadata": {
  "interpreter": {
   "hash": "0c74cd73a716ba77f01911d2388ada38e44adfb25e6cebd4d9e2c4e914a90261"
  },
  "kernelspec": {
   "display_name": "Python 3 (ipykernel)",
   "language": "python",
   "name": "python3"
  },
  "language_info": {
   "codemirror_mode": {
    "name": "ipython",
    "version": 3
   },
   "file_extension": ".py",
   "mimetype": "text/x-python",
   "name": "python",
   "nbconvert_exporter": "python",
   "pygments_lexer": "ipython3",
   "version": "3.10.9"
  }
 },
 "nbformat": 4,
 "nbformat_minor": 2
}