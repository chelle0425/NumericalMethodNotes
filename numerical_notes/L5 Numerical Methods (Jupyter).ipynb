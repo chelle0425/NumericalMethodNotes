{
 "cells": [
  {
   "cell_type": "code",
   "execution_count": 1,
   "source": [
    "### L5 Numerical Linear Algebra 1\n",
    "'''\n",
    "- Manipulation of matrices and matrix equations in Python\n",
    "- Reminder on properties of matrices (from MM1): determinants, singularity etc\n",
    "- Algorithms for the solution of linear systems\n",
    "- Gaussian elimination, including back substitution\n",
    "'''\n",
    "\n",
    "# Matrixes (determinant, singularity)\n",
    "# Direct solution methods\n",
    "    # Glaussian Elimination (and back substitution)\n",
    "    # Triangle method, back substitution\n",
    "    # reverse triangle (for diagonal identity matrix), partial pivot\n",
    "\n",
    "import numpy as np\n",
    "import scipy.linalg as sl"
   ],
   "outputs": [],
   "metadata": {}
  },
  {
   "cell_type": "code",
   "execution_count": 2,
   "source": [
    "### Matrixes recap\n",
    "# real numbers, n = m (square matrixes)\n",
    "    # more rows (over constrained) --> redundant or no solution\n",
    "    # less rows (under constrained) --> too many variables\n",
    "\n",
    "# NumPy array = 1D column vectors --> one column down\n",
    "# Transpose --> every row is now a column\n",
    "# Inverse --> multipy by the matrix = unit matrix\n",
    "    # NOT invertible if determinant = 0\n",
    "    # dot at the end eg 4. --> changes int to float"
   ],
   "outputs": [],
   "metadata": {}
  },
  {
   "cell_type": "code",
   "execution_count": 3,
   "source": [
    "## Ex 5.1 solve a simple linear system\n",
    "\n",
    "A = np.array([[2., 3.], [1., -4.]])\n",
    "B = np.array([7, 3])\n",
    "\n",
    "\"checks whether an inverse is possible\"\n",
    "assert sl.det(A) != 0, \"determinant of the matrix = 0 --> no inverse!!\"\n",
    "\n",
    "\"this solves the matrix eqn\"\n",
    "x = sl.inv(A) @ B\n",
    "\n",
    "print(x)\n",
    "\n",
    "\n",
    "# Compare to scipy\n",
    "print(sl.solve(A, B))\n",
    "print(\"Check it against the solution we calculated by hand earlier: \", 37./11., 1./11.)\n",
    "\n",
    "# Check using numpy.allclose:\n",
    "\" checks if two arrays are the same (to round-off error\"\n",
    "print(np.allclose(np.array([37./11., 1./11.]), sl.inv(A) @ B))"
   ],
   "outputs": [
    {
     "output_type": "stream",
     "name": "stdout",
     "text": [
      "[3.36363636 0.09090909]\n",
      "[3.36363636 0.09090909]\n",
      "Check it against the solution we calculated by hand earlier:  3.3636363636363638 0.09090909090909091\n",
      "True\n"
     ]
    }
   ],
   "metadata": {}
  },
  {
   "cell_type": "code",
   "execution_count": 4,
   "source": [
    "# Slicing random array\n",
    "A = np.array([[10., 2., 1.],\n",
    "                [6., 5., 4.],\n",
    "                [1., 4., 7.]])\n",
    "print(A)\n",
    "\n",
    "\" extract a single entry, first row, second column (= 2)\"\n",
    "print(A[0,1])\n",
    "\n",
    "\" extract the first row\"\n",
    "print(A[0,:])\n",
    "\n",
    "\" extract the last row\"\n",
    "print(A[-1,:])\n",
    "\n",
    "\" extract the second column\"\n",
    "print(A[:,1])\n",
    "\n",
    "\" extract a 2x2 sub-matrix\"\n",
    "print(A[1:3,1:3])\n",
    "\n",
    "\" replace the third column of A\"\n",
    "A[:,2] = np.array([99.,98.,97.])\n",
    "print(A)"
   ],
   "outputs": [
    {
     "output_type": "stream",
     "name": "stdout",
     "text": [
      "[[10.  2.  1.]\n",
      " [ 6.  5.  4.]\n",
      " [ 1.  4.  7.]]\n",
      "2.0\n",
      "[10.  2.  1.]\n",
      "[1. 4. 7.]\n",
      "[2. 5. 4.]\n",
      "[[5. 4.]\n",
      " [4. 7.]]\n",
      "[[10.  2. 99.]\n",
      " [ 6.  5. 98.]\n",
      " [ 1.  4. 97.]]\n"
     ]
    }
   ],
   "metadata": {}
  },
  {
   "cell_type": "code",
   "execution_count": 7,
   "source": [
    "## Ex 5.3 checking Gaussian elimination of a 3x3 matrix\n",
    "\n",
    "# Can do the following operations without changing corrosponding sol:\n",
    "    # Exchange 2 rows (partial pivoting)\n",
    "    # Multipy a row by a non-zero constant (Eq(i) <-- lamb x Eq(i))\n",
    "    # Subtracting a (non-zero) multiple of one row with another (Eq(i) <-- Eq(i)) - lamba x Eq(j)\n",
    "\n",
    "# Upper-triangular matrix --> all entries below diagonal are zero\n",
    "# Eqn/ row being subtracted --> the pivot\n",
    "\n",
    "A = np.array([[2., 3., -4.],\n",
    "                [6., 8., 2.],\n",
    "                [4., 8., -6.]])\n",
    "\n",
    "b = np.array([5., 3., 19.])\n",
    "\n",
    "x = sl.inv(A) @ b\n",
    "\n",
    "print(x)"
   ],
   "outputs": [
    {
     "output_type": "stream",
     "name": "stdout",
     "text": [
      "[-6.   5.  -0.5]\n"
     ]
    }
   ],
   "metadata": {}
  },
  {
   "cell_type": "code",
   "execution_count": null,
   "source": [
    "### Gaussian elimination upper triangle \n",
    "# bk is unaffected as only sub back to bi\n",
    "# Akk can't be close to zero (s = A[i, k] / A[k, k]) --> partial pivoting"
   ],
   "outputs": [],
   "metadata": {}
  }
 ],
 "metadata": {
  "kernelspec": {
   "name": "python3",
   "display_name": "Python 3.10.9 64-bit ('numericalmethods': conda)"
  },
  "language_info": {
   "codemirror_mode": {
    "name": "ipython",
    "version": 3
   },
   "file_extension": ".py",
   "mimetype": "text/x-python",
   "name": "python",
   "nbconvert_exporter": "python",
   "pygments_lexer": "ipython3",
   "version": "3.10.9"
  },
  "interpreter": {
   "hash": "0c74cd73a716ba77f01911d2388ada38e44adfb25e6cebd4d9e2c4e914a90261"
  }
 },
 "nbformat": 4,
 "nbformat_minor": 5
}
