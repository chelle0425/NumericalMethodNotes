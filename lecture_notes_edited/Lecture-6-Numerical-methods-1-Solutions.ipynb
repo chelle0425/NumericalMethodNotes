{
 "cells": [
  {
   "cell_type": "markdown",
   "source": [
    "# Numerical Methods\n",
    "\n",
    "## Lecture 6: Numerical Linear Algebra II\n",
    "\n",
    "### Exercise solutions"
   ],
   "metadata": {}
  },
  {
   "cell_type": "markdown",
   "source": [
    "### <span style=\"color:blue\">Exercise 6.1: lower-triangular matrices</span>\n",
    "\n",
    "Convince yourselves of the following facts:\n",
    "\n",
    "\n",
    "* The multiplication of arbitrary lower-triangular square matrices is also lower-triangular.\n",
    "\n",
    "\n",
    "* $L_2(L_1(L_0A)) = U \\implies A = L_0^{-1}(L_1^{-1}(L_2^{-1}U))$\n",
    "\n",
    "\n",
    "* and hence that $A=LU$ where $U$ is the upper-triangular matrix found at the end of Guassian elimination, and where $L$ is the \n",
    "following  matrix\n",
    "$$ L = L_0^{-1}L_1^{-1}L_2^{-1} $$\n",
    "\n",
    "\n",
    "* Finally, compute this product of these lower-triangular matrices to show that \n",
    "$$L = \n",
    "  \\begin{bmatrix}\n",
    "    {\\color{black}1} & {\\color{black}0} & {\\color{black}0} & {\\color{black}0}\\\\\n",
    "    {\\color{black}{1}} & {\\color{black}1} & {\\color{black}0} & {\\color{black}0}\\\\\n",
    "    {\\color{black}{4}} & {\\color{black}7} & {\\color{black}1} & {\\color{black}0}\\\\\n",
    "    {\\color{black}{5}} & {\\color{black}8} & {\\color{black}2} & {\\color{black}1}\\\\   \n",
    "  \\end{bmatrix}\n",
    "$$\n",
    "i.e. that the multiplication of these individual atomic matrices (importantly in this order) simply merges the entries from the non-zero columns of each atomic matrix, and hence is both lower-triangular, as well as trivial to compute."
   ],
   "metadata": {}
  },
  {
   "cell_type": "code",
   "execution_count": 14,
   "source": [
    "import numpy as np\n",
    "from scipy import linalg\n",
    "from pprint import pprint\n",
    "\n",
    "# as above: A matrix,\n",
    "A=np.array([[5., 7. , 5., 9.],\n",
    "            [5., 14.,   7.,  10.],\n",
    "            [20., 77., 41., 48.],\n",
    "            [25., 91.,  55., 67.]])\n",
    "# lower triangular matrices,\n",
    "L0 = np.array([[1,0,0,0],[-1,1,0,0],[-4,0,1,0],[-5,0,0,1]])\n",
    "L1 = np.array([[1,0,0,0],[0,1,0,0],[0,-7,1,0],[0,-8,0,1]])\n",
    "L2 = np.array([[1,0,0,0],[0,1,0,0],[0,0,1,0],[0,0,-2,1]])\n",
    "# and their inverse matrices\n",
    "L0_ = linalg.inv(L0)\n",
    "L1_ = linalg.inv(L1)\n",
    "L2_ = linalg.inv(L2)\n",
    "\n",
    "# our base matrix\n",
    "pprint(A)\n",
    "\n",
    "# Check the multiplication of arbitrary lower-triangular square matrices is also lower-triangular\n",
    "pprint(L0 @ L1)\n",
    "pprint(L2 @ L1)\n",
    "\n",
    "# Check L2(L1(L0 A)) = U\n",
    "U = L2 @ ( L1 @ ( L0 @ A ) )\n",
    "pprint(U)\n",
    "\n",
    "# A = L0^-1(L1^-1(L2^-1 U))\n",
    "A = L0_ @ ( L1_ @ ( L2_ @ U ) )\n",
    "pprint(A)\n",
    "\n",
    "# L = L0^-1 L1^-1 L2^-1\n",
    "L = L0_ @ ( L1_ @ L2_ )\n",
    "pprint(L)\n",
    "\n",
    "# A = LU\n",
    "# numpy.allclose takes two numpy arrays and checks whether all elements are identical to some tolerance\n",
    "np.allclose(A, L @ U)"
   ],
   "outputs": [
    {
     "output_type": "stream",
     "name": "stdout",
     "text": [
      "array([[ 5.,  7.,  5.,  9.],\n",
      "       [ 5., 14.,  7., 10.],\n",
      "       [20., 77., 41., 48.],\n",
      "       [25., 91., 55., 67.]])\n",
      "array([[ 1,  0,  0,  0],\n",
      "       [-1,  1,  0,  0],\n",
      "       [-4, -7,  1,  0],\n",
      "       [-5, -8,  0,  1]])\n",
      "array([[ 1,  0,  0,  0],\n",
      "       [ 0,  1,  0,  0],\n",
      "       [ 0, -7,  1,  0],\n",
      "       [ 0,  6, -2,  1]])\n",
      "array([[5., 7., 5., 9.],\n",
      "       [0., 7., 2., 1.],\n",
      "       [0., 0., 7., 5.],\n",
      "       [0., 0., 0., 4.]])\n",
      "array([[ 5.,  7.,  5.,  9.],\n",
      "       [ 5., 14.,  7., 10.],\n",
      "       [20., 77., 41., 48.],\n",
      "       [25., 91., 55., 67.]])\n",
      "array([[1., 0., 0., 0.],\n",
      "       [1., 1., 0., 0.],\n",
      "       [4., 7., 1., 0.],\n",
      "       [5., 8., 2., 1.]])\n"
     ]
    },
    {
     "output_type": "execute_result",
     "data": {
      "text/plain": [
       "True"
      ]
     },
     "metadata": {},
     "execution_count": 14
    }
   ],
   "metadata": {}
  },
  {
   "cell_type": "markdown",
   "source": [
    "### <span style=\"color:blue\">Exercise 6.2: LU decomposition</span>\n",
    "\n",
    "Starting from your Gaussian elimination code produce a new code to compute the LU decomposition of a matrix. First, store $L$ and $U$ in two different matrices; you could then try a version where you store the entries of both $L$ and $U$ in $A$ as described above."
   ],
   "metadata": {}
  },
  {
   "cell_type": "code",
   "execution_count": 15,
   "source": [
    "import numpy as np\n",
    "import scipy.linalg as sl\n",
    "from pprint import pprint\n",
    "\n",
    "\n",
    "# note that in the following example we don't use the trick described in class to make use of the \n",
    "# zero'd column of the updated A to store the multipliers `s`, instead we just start from an L\n",
    "# matrix that is initialised to the identity.\n",
    "\n",
    "def LU_dec(A):\n",
    "    # upper triangular matrix contains gaussian elimination result\n",
    "    # we won't change A in-place but create a local copy\n",
    "    A = A.copy()\n",
    "    m, n = A.shape\n",
    "    assert(n == m)  # this is designed to work for a square matrix\n",
    "    # lower triangular matrix has identity diagonal and scaling factors\n",
    "    # start from the identity:\n",
    "    L = np.identity(n)\n",
    "    # Loop over each pivot row.\n",
    "    for k in range(n):\n",
    "        # Loop over each equation below the pivot row.\n",
    "        for i in range(k+1, n):\n",
    "            # Define the scaling factor outside the innermost\n",
    "            # loop otherwise its value gets changed.\n",
    "            s = (A[i,k]/A[k,k])\n",
    "            for j in range(k, n):\n",
    "                A[i,j] = A[i,j] - s*A[k,j]\n",
    "            # scaling factors make up the lower matrix \n",
    "            L[i,k] = s\n",
    "    # A now is the upper triangular matrix U\n",
    "    return L, A\n",
    "\n",
    "\n",
    "A = np.array([[ 5., 7.,   5.,  9.],\n",
    "              [ 5., 14.,  7., 10.],\n",
    "              [20., 77., 41., 48.],\n",
    "              [25., 91. ,55., 67.]])\n",
    "\n",
    "L, U = LU_dec(A)\n",
    "\n",
    "pprint(A)\n",
    "pprint(L)\n",
    "pprint(U)\n",
    "np.allclose(L @ U, A)"
   ],
   "outputs": [
    {
     "output_type": "stream",
     "name": "stdout",
     "text": [
      "array([[ 5.,  7.,  5.,  9.],\n",
      "       [ 5., 14.,  7., 10.],\n",
      "       [20., 77., 41., 48.],\n",
      "       [25., 91., 55., 67.]])\n",
      "array([[1., 0., 0., 0.],\n",
      "       [1., 1., 0., 0.],\n",
      "       [4., 7., 1., 0.],\n",
      "       [5., 8., 2., 1.]])\n",
      "array([[5., 7., 5., 9.],\n",
      "       [0., 7., 2., 1.],\n",
      "       [0., 0., 7., 5.],\n",
      "       [0., 0., 0., 4.]])\n"
     ]
    },
    {
     "output_type": "execute_result",
     "data": {
      "text/plain": [
       "True"
      ]
     },
     "metadata": {},
     "execution_count": 15
    }
   ],
   "metadata": {}
  },
  {
   "cell_type": "code",
   "execution_count": 16,
   "source": [
    "# this is the form of A we can compare against the L and U returned by scipy as it doesn't need to perform PP\n",
    "A = np.array([[25. ,91. ,55. ,67.],\n",
    "               [ 5.,  7.,  5.,  9.], \n",
    "               [20., 77., 41., 48.],\n",
    "               [ 5., 14., 7.,  10.]])\n",
    "\n",
    "L, U = LU_dec(A)\n",
    "\n",
    "pprint(A)\n",
    "pprint(L)\n",
    "pprint(U)\n",
    "np.allclose(L @ U, A)"
   ],
   "outputs": [
    {
     "output_type": "stream",
     "name": "stdout",
     "text": [
      "array([[25., 91., 55., 67.],\n",
      "       [ 5.,  7.,  5.,  9.],\n",
      "       [20., 77., 41., 48.],\n",
      "       [ 5., 14.,  7., 10.]])\n",
      "array([[ 1.        ,  0.        ,  0.        ,  0.        ],\n",
      "       [ 0.2       ,  1.        ,  0.        ,  0.        ],\n",
      "       [ 0.8       , -0.375     ,  1.        ,  0.        ],\n",
      "       [ 0.2       ,  0.375     ,  0.33333333,  1.        ]])\n",
      "array([[ 25.        ,  91.        ,  55.        ,  67.        ],\n",
      "       [  0.        , -11.2       ,  -6.        ,  -4.4       ],\n",
      "       [  0.        ,   0.        ,  -5.25      ,  -7.25      ],\n",
      "       [  0.        ,   0.        ,   0.        ,   0.66666667]])\n"
     ]
    },
    {
     "output_type": "execute_result",
     "data": {
      "text/plain": [
       "True"
      ]
     },
     "metadata": {},
     "execution_count": 16
    }
   ],
   "metadata": {}
  },
  {
   "cell_type": "markdown",
   "source": [
    "Which does indeed agree with the $L$ and $U$ obtained with scipy in the lecture."
   ],
   "metadata": {}
  },
  {
   "cell_type": "markdown",
   "source": [
    "### <span style=\"color:blue\">Exercise 6.3: Partial pivoting</span>\n",
    "\n",
    "Implement partial pivoting."
   ],
   "metadata": {}
  },
  {
   "cell_type": "code",
   "execution_count": 5,
   "source": [
    "import numpy as np\n",
    "from pprint import pprint\n",
    "\n",
    "# This function is not necessary but makes the LU_dec_pp function less cluttered\n",
    "# Making general operations into functions is good way of improving readability and reducing your workload later!\n",
    "def swap_rows(A,j,k):\n",
    "    B = np.copy(A[j,:])\n",
    "    C = np.copy(A[k,:])\n",
    "    \"print('\\nswapping rows', j,'and', k)\"\n",
    "    # second label, BUT NOT CREATING A 2ND ARRAY. Try it for yourself if you want.\n",
    "    A[k,:] = B\n",
    "    A[j,:] = C\n",
    "    return A\n",
    "\n",
    "# A function to perform LU decomposition with partial pivoting\n",
    "def LU_dec_pp(A):\n",
    "    m, n = A.shape\n",
    "    assert(n == m)  # this is designed to work for a square matrix\n",
    "    # we won't modify in place but create local copy \n",
    "    A = A.copy() \n",
    "    # set up some space for L and P\n",
    "    L  = np.identity(n)\n",
    "    # in actual fact we will be forming P^T, call it P_ and remember to return its transpose\n",
    "    P_ = np.identity(n)  \n",
    "    for k in range(n):\n",
    "        # Find the index of the largest ABSOLUTE value. \n",
    "        # np.argmax will return the index of the largest element in an array\n",
    "        l = np.argmax(abs(A[k:,k])) \n",
    "        \" looks at the column of elements below (and including) the pivot point A[k, k]\"\n",
    "\n",
    "        # and swap row k (the current pivot) with the row l rows below\n",
    "        l += k              # l = l+k is therefore this row number\n",
    "        # so now swap rows k with row l\n",
    "        A  = swap_rows(A,l,k)\n",
    "        # perform the same swaps on the P_ matrix which started out as the identity\n",
    "        P_ = swap_rows(P_,l,k) \n",
    "        for i in range(k+1,n):\n",
    "            s = A[i,k]/A[k,k]\n",
    "            A[i,k:] -= A[k,k:]*s  # just a fancy way of doing the j loop\n",
    "            L[i,k] = s\n",
    "    U = A   \n",
    "    # remember to return the transpose of the P_ permutation matrix we formed\n",
    "    return P_.T, L, U\n",
    "\n",
    "\n",
    "A = np.array([[ 5., 7.,   5.,  9.],\n",
    "              [ 5., 14.,  7., 10.],\n",
    "              [20., 77., 41., 48.],\n",
    "              [25., 91. ,55., 67.]])\n",
    "\n",
    "P, L, U = LU_dec_pp(A)\n",
    "pprint(A)\n",
    "pprint(P)\n",
    "pprint(L)\n",
    "pprint(U)\n",
    "pprint( P @ ( L @ U ) )\n",
    "np.allclose(P @ ( L @ U ), A)"
   ],
   "outputs": [
    {
     "output_type": "stream",
     "name": "stdout",
     "text": [
      "array([[ 5.,  7.,  5.,  9.],\n",
      "       [ 5., 14.,  7., 10.],\n",
      "       [20., 77., 41., 48.],\n",
      "       [25., 91., 55., 67.]])\n",
      "array([[0., 1., 0., 0.],\n",
      "       [0., 0., 0., 1.],\n",
      "       [0., 0., 1., 0.],\n",
      "       [1., 0., 0., 0.]])\n",
      "array([[ 1.        ,  0.        ,  0.        ,  0.        ],\n",
      "       [ 0.2       ,  1.        ,  0.        ,  0.        ],\n",
      "       [ 0.8       , -0.375     ,  1.        ,  0.        ],\n",
      "       [ 0.2       ,  0.375     ,  0.33333333,  1.        ]])\n",
      "array([[ 25.        ,  91.        ,  55.        ,  67.        ],\n",
      "       [  0.        , -11.2       ,  -6.        ,  -4.4       ],\n",
      "       [  0.        ,   0.        ,  -5.25      ,  -7.25      ],\n",
      "       [  0.        ,   0.        ,   0.        ,   0.66666667]])\n",
      "array([[ 5.,  7.,  5.,  9.],\n",
      "       [ 5., 14.,  7., 10.],\n",
      "       [20., 77., 41., 48.],\n",
      "       [25., 91., 55., 67.]])\n"
     ]
    },
    {
     "output_type": "execute_result",
     "data": {
      "text/plain": [
       "True"
      ]
     },
     "metadata": {},
     "execution_count": 5
    }
   ],
   "metadata": {}
  },
  {
   "cell_type": "markdown",
   "source": [
    "This agrees with the scipy based solution given in the lecture."
   ],
   "metadata": {}
  },
  {
   "cell_type": "code",
   "execution_count": null,
   "source": [],
   "outputs": [],
   "metadata": {}
  }
 ],
 "metadata": {
  "celltoolbar": "Slideshow",
  "kernelspec": {
   "name": "python3",
   "display_name": "Python 3.10.9 64-bit ('numericalmethods': conda)"
  },
  "language_info": {
   "codemirror_mode": {
    "name": "ipython",
    "version": 3
   },
   "file_extension": ".py",
   "mimetype": "text/x-python",
   "name": "python",
   "nbconvert_exporter": "python",
   "pygments_lexer": "ipython3",
   "version": "3.10.9"
  },
  "toc": {
   "base_numbering": 1,
   "nav_menu": {},
   "number_sections": false,
   "sideBar": false,
   "skip_h1_title": false,
   "title_cell": "Table of Contents",
   "title_sidebar": "Contents",
   "toc_cell": false,
   "toc_position": {
    "height": "calc(100% - 180px)",
    "left": "10px",
    "top": "150px",
    "width": "213.809px"
   },
   "toc_section_display": false,
   "toc_window_display": false
  },
  "interpreter": {
   "hash": "0c74cd73a716ba77f01911d2388ada38e44adfb25e6cebd4d9e2c4e914a90261"
  }
 },
 "nbformat": 4,
 "nbformat_minor": 1
}