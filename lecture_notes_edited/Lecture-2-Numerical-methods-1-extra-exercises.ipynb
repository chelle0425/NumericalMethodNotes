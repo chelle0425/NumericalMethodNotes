{
 "cells": [
  {
   "cell_type": "markdown",
   "metadata": {},
   "source": [
    "# Numerical Methods\n",
    "\n",
    "# Lecture 2: Numerical Differentiation\n",
    "\n",
    "## Some additional exercises"
   ]
  },
  {
   "cell_type": "markdown",
   "metadata": {},
   "source": [
    "## <span style=\"color:blue\">Exercise: Write Taylor expansions</span>\n",
    "\n",
    "Write the Taylor series expansion of the following functions to the order 5:\n",
    " - $f(x) = e^x$ in $x_0 = 0$\n",
    " - $f(x) = \\frac{1}{1-x}$ in $x_0 = 0$\n",
    " - $f(x) = sin(x)$ in $x_0 = \\pi$"
   ]
  },
  {
   "cell_type": "markdown",
   "metadata": {},
   "source": [
    "## <span style=\"color:blue\">Exercise: Derive a finite difference scheme for $f'''$</span>\n",
    "\n",
    "The third derivative of function $f$ is $f'''(x) = f^{(3)}(x) = \\frac{\\mathrm{d}^3 f}{\\mathrm{d}x^3}$.\n",
    "\n",
    "Notice that $f'''(x) = g'(x)$ where $g(x)=f''(x)$. Use this observation to write a finite difference approximation of $f'''$ in $x_0$. Use central differencing for both first and second derivative approximations."
   ]
  },
  {
   "cell_type": "markdown",
   "metadata": {},
   "source": [
    "## <span style=\"color:blue\">Exercise: Accuracy of forward Euler and Heun's methods</span>\n",
    "\n",
    "Consider equation \n",
    "$$u'(t)=u(t),\\quad u(0)=1\\,.$$\n",
    "\n",
    "Use the functions from Exercises 2.5 and 2.6 to plot the forward Euler and Heun's approximate solutions of this equation for different values of $\\Delta t$.\n",
    "\n",
    "Determine visually when both methods start to produce similar result.\n",
    "\n",
    "Write a function *approx_error(f, u0, t0, t, dt)* that returns the approximation error at a given time $t$ for both methods.\n",
    "\n",
    "Using a while loop, compute the error at $t=3$ for $\\Delta t$ from $1$ to $10^{-6}$, and plot it against $\\Delta t$ in logarithmic scale.\n",
    "\n",
    "When does the difference between both approximate solutions at time $t=3$ start to be smaller than $10^{-3}$."
   ]
  },
  {
   "cell_type": "code",
   "execution_count": null,
   "metadata": {
    "collapsed": true
   },
   "outputs": [],
   "source": []
  }
 ],
 "metadata": {
  "kernelspec": {
   "display_name": "Python 3",
   "language": "python",
   "name": "python3"
  },
  "language_info": {
   "codemirror_mode": {
    "name": "ipython",
    "version": 3
   },
   "file_extension": ".py",
   "mimetype": "text/x-python",
   "name": "python",
   "nbconvert_exporter": "python",
   "pygments_lexer": "ipython3",
   "version": "3.7.3"
  },
  "toc": {
   "base_numbering": 1,
   "nav_menu": {},
   "number_sections": false,
   "sideBar": false,
   "skip_h1_title": false,
   "title_cell": "Table of Contents",
   "title_sidebar": "Contents",
   "toc_cell": false,
   "toc_position": {},
   "toc_section_display": false,
   "toc_window_display": false
  }
 },
 "nbformat": 4,
 "nbformat_minor": 1
}
