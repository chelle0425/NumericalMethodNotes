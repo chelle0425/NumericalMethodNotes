{
 "cells": [
  {
   "cell_type": "markdown",
   "metadata": {},
   "source": [
    "# Numerical Methods \n",
    "\n",
    "\n",
    "# Lecture 2: Numerical Differentiation\n",
    "\n",
    "\n",
    "## Exercise solutions"
   ]
  },
  {
   "cell_type": "code",
   "execution_count": 1,
   "metadata": {},
   "outputs": [],
   "source": [
    "# some imports we will make at the start of every notebook\n",
    "# later notebooks may add to this with specific SciPy modules\n",
    "\n",
    "%matplotlib inline\n",
    "import numpy as np\n",
    "import matplotlib.pyplot as plt"
   ]
  },
  {
   "cell_type": "markdown",
   "metadata": {},
   "source": [
    "## <span style=\"color:blue\">Exercise 2.1: Compute first derivative using forward differencing</span>\n",
    "\n",
    "Use the forward difference scheme to compute an approximation to $f'(2.36)$ from the following data:\n",
    "\n",
    "$f(2.36) = 0.85866$\n",
    "\n",
    "$f(2.37) = 0.86289$\n",
    "\n",
    "You should get an answer of 0.423."
   ]
  },
  {
   "cell_type": "code",
   "execution_count": 2,
   "metadata": {},
   "outputs": [
    {
     "name": "stdout",
     "output_type": "stream",
     "text": [
      "0.42299999999999693\n"
     ]
    }
   ],
   "source": [
    "dx = 2.37-2.36\n",
    "df = (0.86289-0.85866)/dx\n",
    "print(df)"
   ]
  },
  {
   "cell_type": "markdown",
   "metadata": {},
   "source": [
    "## <span style=\"color:blue\">Exercise 2.2: Compute first derivative using central differencing</span>\n",
    "\n",
    "Use the data below to compute $f'(0.2)$ using central differencing:\n",
    "\n",
    "$$f(0.1) = 0.078348$$\n",
    "$$f(0.2) = 0.138910$$\n",
    "$$f(0.3) = 0.192916$$\n",
    "\n",
    "You should get 0.57284"
   ]
  },
  {
   "cell_type": "code",
   "execution_count": 3,
   "metadata": {},
   "outputs": [
    {
     "name": "stdout",
     "output_type": "stream",
     "text": [
      "0.57284\n"
     ]
    }
   ],
   "source": [
    "dx=0.1\n",
    "df = (0.192916-0.078348)/(2*dx)\n",
    "print(df)"
   ]
  },
  {
   "cell_type": "markdown",
   "metadata": {},
   "source": [
    "## <span style=\"color:blue\">Example: Write a function to perform numerical differentiation</span>\n",
    "\n",
    "As covered above, the expression\n",
    "\n",
    "$$\\frac{f(x+\\Delta x) - f(x-\\Delta x)}{2\\Delta x},$$\n",
    "\n",
    "can be used to find an approximate derivative of the function $f(x)$ provided that $\\Delta x$ is appropriately small. \n",
    "\n",
    "Let's write a function `diff(f, x, dx = 1.0e-6)` that returns the approximation of the derivative of a mathematical function represented by a Python function `f(x)`.\n",
    "\n",
    "Let's apply the above formula to differentiate $\\,f(x) = e^x\\,$ at $\\,x = 0$, $\\,f(x) = e^{−2x}\\,$ at $\\,x = 0$, $\\,f(x) = \\cos(x)\\,$ at $\\,x = 2\\pi$, and $\\,f(x) = \\ln(x)\\,$ at $\\,x = 1\\,$, i.e. functions we know the exact derivative of.\n",
    "\n",
    "In each case, using $\\,\\Delta x = 0.01$, let's write out the error, i.e. the difference between the exact derivative and the result of the formula above."
   ]
  },
  {
   "cell_type": "code",
   "execution_count": 4,
   "metadata": {},
   "outputs": [
    {
     "name": "stdout",
     "output_type": "stream",
     "text": [
      "The approximate derivative of exp(x) at x = 0 is: 1.000017. The error is 0.000017.\n",
      "The approximate derivative of exp(-2*x) at x = 0 is: -2.00013.  The error is 0.00013.\n",
      "The approximate derivative of cos(x) at x = 2*pi is: 0.00000.  The error is 0.00000.\n",
      "The approximate derivative of ln(x) at x = 0 is: 1.00003.  The error is 0.00003.\n"
     ]
    }
   ],
   "source": [
    "def diff(f, x, dx=1e-6):\n",
    "    numerator = f(x + dx) - f(x - dx)\n",
    "    derivative = numerator / ( 2.0 * dx )\n",
    "    return derivative\n",
    "\n",
    "dx = 0.01\n",
    "x = 0\n",
    "f = np.exp\n",
    "derivative = diff(f, x, dx)\n",
    "print(\"The approximate derivative of exp(x) at x = 0 is: %f. The error is %f.\"\n",
    "      % (derivative, abs(derivative - 1)))\n",
    "x = 0\n",
    "\n",
    "def g(x):\n",
    "    return np.exp(-2*x)\n",
    "\n",
    "derivative = diff(g, x, dx)\n",
    "print('The approximate derivative of exp(-2*x) at x = 0 is: {0:.5f}.  The error is {1:.5f}.'\n",
    "        .format(derivative, abs(derivative - (-2.0))))\n",
    "\n",
    "x = 2*np.pi\n",
    "f = np.cos\n",
    "derivative = diff(f, x, dx)\n",
    "print('The approximate derivative of cos(x) at x = 2*pi is: {0:.5f}.  The error is {1:.5f}.'\n",
    "        .format(derivative, abs(derivative - 0)))\n",
    "\n",
    "x = 1\n",
    "f = np.log\n",
    "derivative = diff(f, x, dx)\n",
    "print('The approximate derivative of ln(x) at x = 0 is: {0:.5f}.  The error is {1:.5f}.'\n",
    "        .format(derivative, abs(derivative - 1)))"
   ]
  },
  {
   "cell_type": "markdown",
   "metadata": {},
   "source": [
    "## <span style=\"color:blue\">Exercise 2.3: Compute the derivative of $\\sin(x)$</span>\n",
    "\n",
    "Compute \n",
    "\n",
    "$$\\frac{d(\\sin x)}{dx}\\qquad\\textrm{at}\\qquad x = 0.8$$\n",
    "\n",
    "using (a) forward differencing and (b) central differencing. \n",
    "\n",
    "Write some code that evaluates these derivatives for decreasing values of $h$ (start with $h=1.0$ and keep halving) and compare the values against the exact solution.\n",
    "\n",
    "Plot the convergence of your two methods."
   ]
  },
  {
   "cell_type": "code",
   "execution_count": 5,
   "metadata": {},
   "outputs": [
    {
     "name": "stdout",
     "output_type": "stream",
     "text": [
      "Exact derivative at sin(0.8) =  0.6967067093471654\n",
      "Forward differencing                    Central differencing\n",
      "  0.256492 (error=      0.44)           0.586258 (error=      0.11)\n",
      "  0.492404 (error=       0.2)           0.668038 (error=     0.029)\n",
      "  0.600269 (error=     0.096)           0.689472 (error=    0.0072)\n",
      "  0.650117 (error=     0.047)           0.694894 (error=    0.0018)\n",
      "  0.673843 (error=     0.023)           0.696253 (error=   0.00045)\n",
      "  0.685386 (error=     0.011)           0.696593 (error=   0.00011)\n",
      "  0.691074 (error=    0.0056)           0.696678 (error=   2.8e-05)\n",
      "  0.693897 (error=    0.0028)             0.6967 (error=   7.1e-06)\n",
      "  0.695304 (error=    0.0014)           0.696705 (error=   1.8e-06)\n",
      "  0.696006 (error=    0.0007)           0.696706 (error=   4.4e-07)\n"
     ]
    },
    {
     "data": {
      "text/plain": [
       "<matplotlib.legend.Legend at 0x292559eaf88>"
      ]
     },
     "execution_count": 5,
     "metadata": {},
     "output_type": "execute_result"
    },
    {
     "data": {
      "image/png": "[encoded data removed]",
      "text/plain": [
       "<Figure size 504x360 with 1 Axes>"
      ]
     },
     "metadata": {
      "needs_background": "light"
     },
     "output_type": "display_data"
    }
   ],
   "source": [
    "import math\n",
    "\n",
    "def forward_diff(f, x, dx):\n",
    "    fx = f(x)\n",
    "    fxph = f(x + dx)\n",
    "    return (fxph - fx) / dx\n",
    "\n",
    "\n",
    "def central_diff(f, x, dx):\n",
    "    fxph = f(x + dx)\n",
    "    fxnh = f(x - dx)\n",
    "    return (fxph - fxnh) / (2 * dx)\n",
    "\n",
    "\n",
    "# for this example we know trivially what the exact solution should be\n",
    "exact = np.cos(0.8)\n",
    "\n",
    "print('Exact derivative at sin(0.8) = ', exact)\n",
    "# headers for the following errors outputs\n",
    "print('%20s%40s' % ('Forward differencing', 'Central differencing'))\n",
    "\n",
    "# we're going to store all the values for plotting, initialise variable for these\n",
    "fd_errors = []\n",
    "cd_errors = []\n",
    "dx_all = []\n",
    "dx = 1.0  # an initial mesh spacing\n",
    "for i in range(10):\n",
    "    fd = forward_diff(np.sin, 0.8, dx)\n",
    "    cd = central_diff(np.sin, 0.8, dx)\n",
    "    print('%10g (error=%10.2g)         %10g (error=%10.2g)' %\n",
    "          (fd, abs(fd - exact), cd, abs(cd - exact)))\n",
    "    # store the h and the errors\n",
    "    dx_all.append(dx)\n",
    "    fd_errors.append(abs(fd - exact))\n",
    "    cd_errors.append(abs(cd - exact))\n",
    "    dx = dx / 2  # halve h for the next iteration\n",
    "\n",
    "# as we expect a polynomial relationship between dx and the errors,\n",
    "# a log-log plot will demonstrate this if we get straight lines\n",
    "# the slopes of these lines indicating the order of the relationship:\n",
    "# slope 1 for forward diff and slope 2 for central diff\n",
    "\n",
    "# set up figure\n",
    "fig = plt.figure(figsize=(7, 5))\n",
    "ax1 = plt.subplot(111)\n",
    "\n",
    "ax1.loglog(dx_all, fd_errors, 'b.-', label='Forward diff.')\n",
    "ax1.loglog(dx_all, cd_errors, 'k.-', label='Central diff.')\n",
    "ax1.set_xlabel('$\\Delta x$', fontsize=16)\n",
    "ax1.set_ylabel('Error', fontsize=16)\n",
    "ax1.set_title('Convergence plot', fontsize=16)\n",
    "ax1.grid(True)\n",
    "ax1.legend(loc='best', fontsize=14)"
   ]
  },
  {
   "cell_type": "markdown",
   "metadata": {},
   "source": [
    "## <span style=\"color:blue\">Exercise 2.4: Compute second derivative</span>\n",
    "\n",
    "Calculate the second derivative $f''$ at $x = 1$ using the data below:\n",
    "\n",
    "$f(0.84) = 0.431711$\n",
    "\n",
    "$f(0.92) = 0.398519$\n",
    "\n",
    "$f(1.00) = 0.367879$\n",
    "\n",
    "$f(1.08) = 0.339596$\n",
    "\n",
    "$f(1.16) = 0.313486$\n",
    "\n",
    "You should get 0.36828"
   ]
  },
  {
   "cell_type": "code",
   "execution_count": 6,
   "metadata": {},
   "outputs": [
    {
     "name": "stdout",
     "output_type": "stream",
     "text": [
      "0.36828124999999967\n"
     ]
    }
   ],
   "source": [
    "dx = 0.08\n",
    "ddf = (0.339596 - 2*0.367879 + 0.398519)/(dx*dx)\n",
    "print(ddf)"
   ]
  },
  {
   "cell_type": "markdown",
   "metadata": {},
   "source": [
    "## <span style=\"color:blue\">Exercise 2.5: Implementing Forward Euler's method</span>\n",
    "\n",
    "Write a function *euler*( *f*, *u0*, *t0*, *t_max*, *h*) that takes as arguments the function $f(u,t)$ on the RHS of our ODE,\n",
    "an initial value for $u$, the start and end time of the integration, and the time step.\n",
    "\n",
    "Use it to integrate the following ODE problems up to time $t=10$\n",
    "\n",
    "$$u'(t)=u(t),\\quad u(0)=1$$\n",
    "\n",
    "and \n",
    "\n",
    "$$u'(t)=\\cos(t),\\quad u(0)=0$$\n",
    "\n",
    "and plot the results. A template to get you started is below."
   ]
  },
  {
   "cell_type": "code",
   "execution_count": 7,
   "metadata": {},
   "outputs": [
    {
     "data": {
      "image/png": "[encoded data removed]",
      "text/plain": [
       "<Figure size 504x360 with 1 Axes>"
      ]
     },
     "metadata": {
      "needs_background": "light"
     },
     "output_type": "display_data"
    }
   ],
   "source": [
    "def euler(f,u0,t0,t_max,dt):\n",
    "    u=u0; t=t0\n",
    "    # these lists will store all solution values \n",
    "    # and associated time levels for later plotting\n",
    "    u_all=[u0]; t_all=[t0]\n",
    "    while t<t_max:\n",
    "        u = u + dt*f(u,t)\n",
    "        u_all.append(u)\n",
    "        t = t + dt\n",
    "        t_all.append(t)\n",
    "    return(u_all,t_all)\n",
    "\n",
    "def f(u,t):\n",
    "    val = u\n",
    "    return val\n",
    "\n",
    "(u_all,t_all) = euler(f,1.0,0.0,10.0,0.1)\n",
    "\n",
    "\n",
    "\n",
    "# set up figure\n",
    "fig = plt.figure(figsize=(7, 5))\n",
    "ax1 = plt.subplot(111)\n",
    "\n",
    "ax1.plot(t_all, u_all)\n",
    "ax1.set_xlabel('$t$', fontsize=16)\n",
    "ax1.set_ylabel('$x(t)$', fontsize=16)\n",
    "ax1.grid(True)"
   ]
  },
  {
   "cell_type": "markdown",
   "metadata": {},
   "source": [
    "## <span style=\"color:blue\">Exercise 2.6: Implementing Heun's method</span>\n",
    "\n",
    "Repeat the previous exercise for this method.\n",
    "\n",
    "For some ODEs you know the exact solution to compare the errors between Euler's and Heun's method, and how they vary with time step."
   ]
  },
  {
   "cell_type": "code",
   "execution_count": 8,
   "metadata": {},
   "outputs": [
    {
     "data": {
      "text/plain": [
       "<matplotlib.legend.Legend at 0x29255c5d408>"
      ]
     },
     "execution_count": 8,
     "metadata": {},
     "output_type": "execute_result"
    },
    {
     "data": {
      "image/png": "[encoded data removed]",
      "text/plain": [
       "<Figure size 504x360 with 1 Axes>"
      ]
     },
     "metadata": {
      "needs_background": "light"
     },
     "output_type": "display_data"
    }
   ],
   "source": [
    "def euler(f,u0,t0,t_max,dt):\n",
    "    u=u0; t=t0; u_all=[u0]; t_all=[t0];\n",
    "    while t<t_max:\n",
    "        u = u + dt*f(u,t)\n",
    "        u_all.append(u)\n",
    "        t = t + dt\n",
    "        t_all.append(t)\n",
    "    return(u_all,t_all)\n",
    "\n",
    "def heun(f,u0,t0,t_max,dt):\n",
    "    u=u0; t=t0; u_all=[u0]; t_all=[t0];\n",
    "    while t<t_max:\n",
    "        ue = u + dt*f(u,t) # euler guess\n",
    "        u = u + 0.5*dt*(f(u,t) + f(ue,t+dt))\n",
    "        u_all.append(u)\n",
    "        t = t + dt\n",
    "        t_all.append(t)\n",
    "    return(u_all,t_all)\n",
    "\n",
    "def f(u,t):\n",
    "    val = u\n",
    "    return val\n",
    "\n",
    "dt = 0.4\n",
    "u0 = 1.0\n",
    "t0 = 0.0\n",
    "tf = 10.0\n",
    "\n",
    "# set up figure\n",
    "fig = plt.figure(figsize=(7, 5))\n",
    "ax1 = plt.subplot(111)\n",
    "\n",
    "(u_all,t_all) = euler(f,u0,t0,tf,dt)\n",
    "ax1.plot(t_all, u_all,'b',label='euler')\n",
    "\n",
    "(u_all,t_all) = heun(f,u0,t0,tf,dt)\n",
    "ax1.plot(t_all, u_all,'r',label='heun')\n",
    "\n",
    "# exact solution\n",
    "ax1.plot(t_all, np.exp(t_all),'k',label='exact')\n",
    "\n",
    "ax1.set_xlabel('$t$', fontsize=16)\n",
    "ax1.set_ylabel('$u(t)$', fontsize=16)\n",
    "ax1.grid(True)\n",
    "ax1.legend(loc='best')"
   ]
  },
  {
   "cell_type": "code",
   "execution_count": null,
   "metadata": {},
   "outputs": [],
   "source": []
  }
 ],
 "metadata": {
  "celltoolbar": "Slideshow",
  "kernelspec": {
   "display_name": "Python 3",
   "language": "python",
   "name": "python3"
  },
  "language_info": {
   "codemirror_mode": {
    "name": "ipython",
    "version": 3
   },
   "file_extension": ".py",
   "mimetype": "text/x-python",
   "name": "python",
   "nbconvert_exporter": "python",
   "pygments_lexer": "ipython3",
   "version": "3.7.6"
  },
  "toc": {
   "base_numbering": 1,
   "nav_menu": {},
   "number_sections": false,
   "sideBar": false,
   "skip_h1_title": false,
   "title_cell": "Table of Contents",
   "title_sidebar": "Contents",
   "toc_cell": false,
   "toc_position": {
    "height": "calc(100% - 180px)",
    "left": "10px",
    "top": "150px",
    "width": "427.513px"
   },
   "toc_section_display": false,
   "toc_window_display": false
  }
 },
 "nbformat": 4,
 "nbformat_minor": 1
}
